{
 "cells": [
  {
   "cell_type": "markdown",
   "metadata": {},
   "source": [
    "# Práctica Clase 2"
   ]
  },
  {
   "cell_type": "markdown",
   "metadata": {},
   "source": [
    "1) Abrir el archivo \"Emisiones_CO2.csv\" y cargar sus datos en un diccionario."
   ]
  },
  {
   "cell_type": "code",
   "execution_count": 1,
   "metadata": {},
   "outputs": [],
   "source": [
    "import os\n",
    "dicc_emisiones = {'cod_pais' : [],\n",
    "                  'nom_pais' : [],\n",
    "                  'region' : [],\n",
    "                  'anio' : [],\n",
    "                  'co2' : [],\n",
    "                  'co2_percapita' : []}\n",
    "with open('Emisiones_CO2.csv', 'r') as file:\n",
    "    var = next(file)\n",
    "    for row in file:\n",
    "        column = row.split('|')\n",
    "        dicc_emisiones['cod_pais'].append(column[0])\n",
    "        dicc_emisiones['nom_pais'].append(column[1])\n",
    "        dicc_emisiones['region'].append(column[2])\n",
    "        dicc_emisiones['anio'].append(column[3])\n",
    "        dicc_emisiones['co2'].append(column[4])\n",
    "        dicc_emisiones['co2_percapita'].append(column[5])"
   ]
  },
  {
   "cell_type": "markdown",
   "metadata": {},
   "source": [
    "2) a) ¿Cuántas variables hay? <br>\n",
    "b) ¿Qué tipos de datos usar para cada una? <br>\n",
    "c) ¿Qué tipo de variables son? <br>\n",
    "d) ¿Hay valores faltantes? <br>\n",
    "e) ¿Cuál es el total de emisiones de CO2 para 'América Latina y Caribe' en el año 2010?"
   ]
  },
  {
   "cell_type": "markdown",
   "metadata": {},
   "source": [
    "a) El archivo CSV contiene 6 columnas, cada una corresponde a una variable diferente."
   ]
  },
  {
   "cell_type": "code",
   "execution_count": 2,
   "metadata": {},
   "outputs": [
    {
     "data": {
      "text/plain": [
       "['Código de país',\n",
       " 'Nombre del país',\n",
       " 'Región',\n",
       " 'Año',\n",
       " 'CO2 (kt)',\n",
       " 'CO2 per cápita (toneladas métricas)']"
      ]
     },
     "execution_count": 2,
     "metadata": {},
     "output_type": "execute_result"
    }
   ],
   "source": [
    "var.replace('\\n','').split('|')"
   ]
  },
  {
   "cell_type": "markdown",
   "metadata": {},
   "source": [
    "b) El tipo de datos que utilizamos para cada variable son los siguientes:\n",
    "* **'Código de país'** : cadena de texto\n",
    "* **'Nombre del país'** : cadena de texto\n",
    "* **'Región'** : cadena de texto\n",
    "* **'Año'**: número entero\n",
    "* **'CO2 (kt)'** : punto flotante\n",
    "* **'CO2 per cápita'** : punto flotante"
   ]
  },
  {
   "cell_type": "code",
   "execution_count": 3,
   "metadata": {},
   "outputs": [],
   "source": [
    "# Eliminar los puntos y cambiar las comas por puntos\n",
    "dicc_emisiones['co2'] = [x.replace('.','').replace(',','.') \n",
    "                         for x in dicc_emisiones['co2']]\n",
    "dicc_emisiones['co2_percapita'] = [x.replace('.','').replace(',','.').replace(\"\\n\",\"\") \n",
    "                         for x in dicc_emisiones['co2']]\n",
    "\n",
    "# Cambiar tipos de datos\n",
    "dicc_emisiones['anio'] = list(map(int,dicc_emisiones['anio']))\n",
    "dicc_emisiones['co2'] = list(map(lambda x:float(x) if bool(x) else None,\n",
    "                                 dicc_emisiones['co2']))\n",
    "dicc_emisiones['co2_percapita'] = list(map(lambda x:float(x) if bool(x) else None,\n",
    "                                           dicc_emisiones['co2_percapita']))"
   ]
  },
  {
   "cell_type": "markdown",
   "metadata": {},
   "source": [
    "c) El tipo de variable de cada columna del archivo CSV son los siguientes:\n",
    "* **'Código de país'** : cualitativo\n",
    "* **'Nombre del país'** : cualitativo\n",
    "* **'Región'** : cualitativo\n",
    "* **'Año'**: cualitativo\n",
    "* **'CO2 (kt)'** : cuantitativo\n",
    "* **'CO2 per cápita'** : cuantitativo"
   ]
  },
  {
   "cell_type": "markdown",
   "metadata": {},
   "source": [
    "d) Sí existen valores faltantes para las variables **'co2'** y **'co2_percapita'**. \n",
    "A continuacion se cuenta el número de datos faltantes."
   ]
  },
  {
   "cell_type": "code",
   "execution_count": 4,
   "metadata": {},
   "outputs": [
    {
     "name": "stdout",
     "output_type": "stream",
     "text": [
      "Datos faltantes en columna co2:  2095\n",
      "Datos faltantes en columna co2_percapita:  2095\n"
     ]
    }
   ],
   "source": [
    "# Contar valores nulos en co2 y co2_percapita\n",
    "print('Datos faltantes en columna co2: ',\n",
    "      dicc_emisiones['co2'].count(None))\n",
    "print('Datos faltantes en columna co2_percapita: ',\n",
    "      dicc_emisiones['co2_percapita'].count(None))"
   ]
  },
  {
   "cell_type": "markdown",
   "metadata": {},
   "source": [
    "e) A continuación se calcula el total de emisiones de CO2 para \n",
    "'América Latina y Caribe' en el año 2010."
   ]
  },
  {
   "cell_type": "code",
   "execution_count": 5,
   "metadata": {},
   "outputs": [
    {
     "name": "stdout",
     "output_type": "stream",
     "text": [
      "Total de emisiones de América Latina y Caribe en 2010:  1691634.8009999995 kt\n"
     ]
    }
   ],
   "source": [
    "total = 0.0\n",
    "for i in range(len(dicc_emisiones['region'])):\n",
    "    if(dicc_emisiones['region'][i] == 'América Latina y Caribe' \n",
    "       and dicc_emisiones['anio'][i] == 2010 \n",
    "       and dicc_emisiones['co2'][i] != None):\n",
    "        total += dicc_emisiones['co2'][i]\n",
    "print('Total de emisiones de América Latina y Caribe en 2010: ', total,'kt')"
   ]
  }
 ],
 "metadata": {
  "hide_input": false,
  "kernelspec": {
   "display_name": "Python 3",
   "language": "python",
   "name": "python3"
  },
  "language_info": {
   "codemirror_mode": {
    "name": "ipython",
    "version": 3
   },
   "file_extension": ".py",
   "mimetype": "text/x-python",
   "name": "python",
   "nbconvert_exporter": "python",
   "pygments_lexer": "ipython3",
   "version": "3.7.1"
  },
  "vscode": {
   "interpreter": {
    "hash": "bb63a77499ed5899fffa71b49f0fc3f4df2c625891c3993c985b13a523c87e61"
   }
  }
 },
 "nbformat": 4,
 "nbformat_minor": 2
}
